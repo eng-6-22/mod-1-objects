{
 "cells": [
  {
   "cell_type": "markdown",
   "metadata": {},
   "source": [
    "# Object Relations"
   ]
  },
  {
   "cell_type": "markdown",
   "metadata": {},
   "source": [
    "### Introduction"
   ]
  },
  {
   "cell_type": "markdown",
   "metadata": {},
   "source": [
    "Let's continue on with our analogy from Steve Jobs quote."
   ]
  },
  {
   "cell_type": "markdown",
   "metadata": {},
   "source": [
    "> \"If I’m your laundry object, you can give me your dirty clothes and send me a message that says, “Can you get my clothes laundered, please....I give you your clean clothes and say, “Here are your clean clothes.”"
   ]
  },
  {
   "cell_type": "markdown",
   "metadata": {},
   "source": [
    "Ok, that's a nice introduction into what we want to do next.  We saw how to create different types of object, but in the Steve Jobs quote, one of our objects, a laundromat changes another object, the dirty clothes.  In this lesson, we'll see how to work with objects that interact."
   ]
  },
  {
   "cell_type": "markdown",
   "metadata": {},
   "source": [
    "### Creating our Classes"
   ]
  },
  {
   "cell_type": "markdown",
   "metadata": {},
   "source": [
    "The first thing to do is to create our Laundromat and Clothes classes."
   ]
  },
  {
   "cell_type": "code",
   "execution_count": 2,
   "metadata": {},
   "outputs": [],
   "source": [
    "class Laundromat:\n",
    "    def __init__(self, address):\n",
    "        self._address = address"
   ]
  },
  {
   "cell_type": "code",
   "execution_count": 3,
   "metadata": {},
   "outputs": [],
   "source": [
    "class ClothingArticle:\n",
    "    def __init__(self, name):\n",
    "        self.name = name\n",
    "    \n",
    "    @property\n",
    "    def name(self):\n",
    "        return self._name\n",
    "    \n",
    "    @name.setter\n",
    "    def name(self, name):\n",
    "        self._name = name"
   ]
  },
  {
   "cell_type": "markdown",
   "metadata": {},
   "source": [
    "### Storing our laundromats"
   ]
  },
  {
   "cell_type": "markdown",
   "metadata": {},
   "source": [
    "Now we would ultimately like to be able to create some clothes, drop them off at a laundromat to be cleaned, and pick them up when they are cleaned.  But before we get that far, we first need to be able to store all of the objects that we create in general.  This is how we can do this."
   ]
  },
  {
   "cell_type": "code",
   "execution_count": 26,
   "metadata": {},
   "outputs": [],
   "source": [
    "store = {'clothing_articles': [], 'laundromats': []}"
   ]
  },
  {
   "cell_type": "markdown",
   "metadata": {},
   "source": [
    "Now if we would like to see all of the laundromats, we just call the following:"
   ]
  },
  {
   "cell_type": "code",
   "execution_count": 27,
   "metadata": {},
   "outputs": [
    {
     "data": {
      "text/plain": [
       "[]"
      ]
     },
     "execution_count": 27,
     "metadata": {},
     "output_type": "execute_result"
    }
   ],
   "source": [
    "store['laundromats']"
   ]
  },
  {
   "cell_type": "markdown",
   "metadata": {},
   "source": [
    "Ok, now we want each of our created laundromats to be places in the store.  So where can we make a change such that when an object is created, it goes into the store?  \n",
    "\n",
    "Sounds like our `__init__` function."
   ]
  },
  {
   "cell_type": "code",
   "execution_count": 28,
   "metadata": {},
   "outputs": [],
   "source": [
    "class Laundromat:\n",
    "    def __init__(self, address):\n",
    "        self._address = address\n",
    "        store['laundromats'].append(self)"
   ]
  },
  {
   "cell_type": "code",
   "execution_count": 29,
   "metadata": {},
   "outputs": [],
   "source": [
    "bk_laundromat = Laundromat('123 bk')"
   ]
  },
  {
   "cell_type": "code",
   "execution_count": 30,
   "metadata": {},
   "outputs": [
    {
     "data": {
      "text/plain": [
       "[<__main__.Laundromat at 0x105d35e80>]"
      ]
     },
     "execution_count": 30,
     "metadata": {},
     "output_type": "execute_result"
    }
   ],
   "source": [
    "store['laundromats']"
   ]
  },
  {
   "cell_type": "code",
   "execution_count": 34,
   "metadata": {},
   "outputs": [
    {
     "data": {
      "text/plain": [
       "<__main__.Laundromat at 0x105d35e80>"
      ]
     },
     "execution_count": 34,
     "metadata": {},
     "output_type": "execute_result"
    }
   ],
   "source": [
    "store['laundromats'][0]"
   ]
  },
  {
   "cell_type": "markdown",
   "metadata": {},
   "source": [
    "The other thing we may want to do is give each one of our laundromat's an id.  This will especially make sense when we move onto articles of clothing -- how are we going to keep track of all of those socks?\n",
    "\n",
    "Ok, let's go.  We'll first update our store to be the following."
   ]
  },
  {
   "cell_type": "code",
   "execution_count": 63,
   "metadata": {},
   "outputs": [],
   "source": [
    "store = {'clothing_articles': {}, 'laundromats': {'byId': {}, 'counter': 0}}"
   ]
  },
  {
   "cell_type": "markdown",
   "metadata": {},
   "source": [
    "Then we can update our Laundromat class, so that each laundromat receives an id, and we store that laundromat by id."
   ]
  },
  {
   "cell_type": "code",
   "execution_count": 64,
   "metadata": {},
   "outputs": [],
   "source": [
    "class Laundromat:\n",
    "    def __init__(self, address):\n",
    "        self._address = address\n",
    "        store['laundromats']['counter'] += 1\n",
    "        self._id = store['laundromats']['counter']\n",
    "        store['laundromats']['byId'][self._id] = self"
   ]
  },
  {
   "cell_type": "code",
   "execution_count": 65,
   "metadata": {},
   "outputs": [
    {
     "data": {
      "text/plain": [
       "<__main__.Laundromat at 0x105d27668>"
      ]
     },
     "execution_count": 65,
     "metadata": {},
     "output_type": "execute_result"
    }
   ],
   "source": [
    "Laundromat('41 bk')"
   ]
  },
  {
   "cell_type": "code",
   "execution_count": 66,
   "metadata": {},
   "outputs": [
    {
     "data": {
      "text/plain": [
       "{'clothing_articles': {},\n",
       " 'laundromats': {'byId': {1: <__main__.Laundromat at 0x105d27668>},\n",
       "  'counter': 1}}"
      ]
     },
     "execution_count": 66,
     "metadata": {},
     "output_type": "execute_result"
    }
   ],
   "source": [
    "store"
   ]
  },
  {
   "cell_type": "markdown",
   "metadata": {},
   "source": [
    "So we changed the format "
   ]
  },
  {
   "cell_type": "markdown",
   "metadata": {},
   "source": [
    "### Storing our clothing"
   ]
  },
  {
   "cell_type": "markdown",
   "metadata": {},
   "source": [
    "Ok, so now make a change to the `ClothingArticle` class, so that when an instance of the class is created, it is stored in our store."
   ]
  },
  {
   "cell_type": "code",
   "execution_count": 5,
   "metadata": {},
   "outputs": [],
   "source": [
    "class ClothingArticle:\n",
    "    @property\n",
    "    def laundromat(self):\n",
    "        if self.laundromat_id:\n",
    "            store['laundromats']['byId'][self.laundromat_id]\n",
    "        \n",
    "    @laundromat.setter\n",
    "    def laundromat(self, laundromat):\n",
    "        self._laundromat_id = laundromat['id']"
   ]
  },
  {
   "cell_type": "markdown",
   "metadata": {},
   "source": [
    "### Associating Objects"
   ]
  },
  {
   "cell_type": "markdown",
   "metadata": {},
   "source": [
    "Now ideally, we would be able to associate an article of clothing with the laundromat it is being stored at.  \n",
    "\n",
    "If we think about it, an article of clothing `has_one` laundromat (at least at a time), and a laundromat `has_many` articles of clothing.  We can associate a single article of clothing with a laundromat simply by storing the id of the laundromat on the clothing:"
   ]
  },
  {
   "cell_type": "code",
   "execution_count": null,
   "metadata": {},
   "outputs": [],
   "source": [
    "class ClothingArticle:\n",
    "    def __init__(self):\n",
    "        store['clothing_articles']['counter'] += 1\n",
    "        self._id = store['laundromats']['counter']\n",
    "        store['laundromats']['byId'][self._id] = self\n",
    "        \n",
    "    @property\n",
    "    def laundromat(self):\n",
    "        if self.laundromat_id:\n",
    "            store['laundromats']['byId'][self._laundromat_id]\n",
    "        \n",
    "    @laundromat.setter\n",
    "    def laundromat(self, laundromat):\n",
    "        self._laundromat_id = laundromat['id']"
   ]
  }
 ],
 "metadata": {
  "kernelspec": {
   "display_name": "Python 3 (ipykernel)",
   "language": "python",
   "name": "python3"
  },
  "language_info": {
   "codemirror_mode": {
    "name": "ipython",
    "version": 3
   },
   "file_extension": ".py",
   "mimetype": "text/x-python",
   "name": "python",
   "nbconvert_exporter": "python",
   "pygments_lexer": "ipython3",
   "version": "3.9.7"
  }
 },
 "nbformat": 4,
 "nbformat_minor": 4
}
