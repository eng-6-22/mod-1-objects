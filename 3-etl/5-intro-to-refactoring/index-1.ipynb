{
 "cells": [
  {
   "cell_type": "markdown",
   "metadata": {},
   "source": [
    "## Introduction to Refactoring"
   ]
  },
  {
   "cell_type": "markdown",
   "metadata": {},
   "source": [
    "Whenever we try to keep the same outcome in our code but improve the readability or reusability of our code, we are **refactoring**.  So when we organize our code into objects we are refactoring the code, because the code may give us the same result, but now we are organizing that code into different locations based on it's functionality."
   ]
  },
  {
   "cell_type": "markdown",
   "metadata": {},
   "source": [
    "## Why refactor?"
   ]
  },
  {
   "cell_type": "markdown",
   "metadata": {},
   "source": [
    "### 1. Create flexible code"
   ]
  },
  {
   "cell_type": "markdown",
   "metadata": {},
   "source": [
    "The real power of using code is that code has the possibility of solving our problem not just once, but many times, over many days and potentially years.  If we are hired as a data scientist that studies restaurants, we will face the problem of retrieving information about restaurants, and creating objects about their monthly performance many times.  \n",
    "\n",
    "By refactoring, and using tools like objects or functions, we make our code more flexible, and thus more reusable.  "
   ]
  },
  {
   "cell_type": "markdown",
   "metadata": {},
   "source": [
    "For example, we may want to write code that requests apis for us in general. "
   ]
  },
  {
   "cell_type": "code",
   "execution_count": 12,
   "metadata": {},
   "outputs": [],
   "source": [
    "# request_api.py\n",
    "import requests\n",
    "class RequestAPI:\n",
    "    def __init__(self, url):\n",
    "        self._url = url\n",
    "    def run(self, params = {}):\n",
    "        response = requests.get(self._url, params)\n",
    "        return response.json()"
   ]
  },
  {
   "cell_type": "code",
   "execution_count": 14,
   "metadata": {},
   "outputs": [
    {
     "data": {
      "text/plain": [
       "dict_values(['10505601194', 'AIMBRIDGE CONCESSIONS, INC.', '5851 LEGACY CIR STE 400', 'PLANO', 'TX', '75024', '43', '5', 'HYATT HOUSE DALLAS/UPTOWN', '2914 HARRY HINES BLVD', 'DALLAS', 'TX', '75201', '57', 'Y', 'MB884961', '2014-09-24T00:00:00.000', '2016-06-30T00:00:00.000', '2201', '762', '1663', '0', '4626'])"
      ]
     },
     "execution_count": 14,
     "metadata": {},
     "output_type": "execute_result"
    }
   ],
   "source": [
    "request_tx = RequestAPI('https://data.texas.gov/resource/naix-2893.json')\n",
    "request_tx.run()[0].values()"
   ]
  },
  {
   "cell_type": "markdown",
   "metadata": {},
   "source": [
    "We can now pass through whichever url we like, and no longer have to move through the steps of calling our API."
   ]
  },
  {
   "cell_type": "markdown",
   "metadata": {},
   "source": [
    "### 2. Make our codebase feel small (even when it's large)"
   ]
  },
  {
   "cell_type": "markdown",
   "metadata": {},
   "source": [
    "A second reason to refactor is that it allows us to write \"small code\".  Small code means that in a large codebase, we still only have to worry about the code that's directly in front of us.  \n",
    "\n",
    "A main feature in Python that allows us to accomplish this is with scope.  Whenever we define a variable outside of a class or a function, we are defining a variable in global scope."
   ]
  },
  {
   "cell_type": "code",
   "execution_count": 2,
   "metadata": {},
   "outputs": [],
   "source": [
    "greeting = 'global'"
   ]
  },
  {
   "cell_type": "markdown",
   "metadata": {},
   "source": [
    "Defining variables in global scope makes our code feel larger, because they can impact our code throughout a module.  And we can impact our global variables.  So for example, say later on we define a function named `greeting`"
   ]
  },
  {
   "cell_type": "code",
   "execution_count": 5,
   "metadata": {},
   "outputs": [],
   "source": [
    "def greeting(self):\n",
    "    return 'hello everyone'"
   ]
  },
  {
   "cell_type": "markdown",
   "metadata": {},
   "source": [
    "Well, we just overrode our global variable.  And it's quite likely that we didn't even know it."
   ]
  },
  {
   "cell_type": "code",
   "execution_count": 6,
   "metadata": {},
   "outputs": [
    {
     "data": {
      "text/plain": [
       "<function __main__.greeting(self)>"
      ]
     },
     "execution_count": 6,
     "metadata": {},
     "output_type": "execute_result"
    }
   ],
   "source": [
    "greeting"
   ]
  },
  {
   "cell_type": "markdown",
   "metadata": {},
   "source": [
    "Contrast this with our `RequestAPI` class."
   ]
  },
  {
   "cell_type": "code",
   "execution_count": 15,
   "metadata": {},
   "outputs": [],
   "source": [
    "# request_api.py\n",
    "import requests\n",
    "class RequestAPI:\n",
    "    def __init__(self, url):\n",
    "        self._url = url\n",
    "    def run(self, params = {}):\n",
    "        response = requests.get(self._url, params)\n",
    "        return response.json()"
   ]
  },
  {
   "cell_type": "markdown",
   "metadata": {},
   "source": [
    "None of the code inside of our class affects the global scope."
   ]
  },
  {
   "cell_type": "code",
   "execution_count": 16,
   "metadata": {},
   "outputs": [
    {
     "ename": "NameError",
     "evalue": "name '_url' is not defined",
     "output_type": "error",
     "traceback": [
      "\u001b[0;31m---------------------------------------------------------------------------\u001b[0m",
      "\u001b[0;31mNameError\u001b[0m                                 Traceback (most recent call last)",
      "\u001b[0;32m<ipython-input-16-ca4d10d8cb55>\u001b[0m in \u001b[0;36m<module>\u001b[0;34m()\u001b[0m\n\u001b[0;32m----> 1\u001b[0;31m \u001b[0m_url\u001b[0m\u001b[0;34m\u001b[0m\u001b[0m\n\u001b[0m",
      "\u001b[0;31mNameError\u001b[0m: name '_url' is not defined"
     ]
    }
   ],
   "source": [
    "_url"
   ]
  },
  {
   "cell_type": "markdown",
   "metadata": {},
   "source": [
    "### 3. Make the code more readable"
   ]
  },
  {
   "cell_type": "markdown",
   "metadata": {},
   "source": [
    "Finally, refactoring makes our code more readable.  This is important for a couple reasons:\n",
    "* As engineers, things will go wrong.  Readability will allow us to more easily debug our code.\n",
    "* We will want to use our code to for new problems.  To do that we will have to read our code, and then either change it, or apply it to our problem."
   ]
  },
  {
   "cell_type": "markdown",
   "metadata": {},
   "source": [
    "### Summary"
   ]
  },
  {
   "cell_type": "markdown",
   "metadata": {},
   "source": [
    "In this lesson, we learned about the benefits of refactoring.  By refactoring we make our code more reusable in the future. Our code becomes more reusable as refactoring makes our code more flexible, more readable, and simpler.  "
   ]
  }
 ],
 "metadata": {
  "kernelspec": {
   "display_name": "Python 3",
   "language": "python",
   "name": "python3"
  },
  "language_info": {
   "codemirror_mode": {
    "name": "ipython",
    "version": 3
   },
   "file_extension": ".py",
   "mimetype": "text/x-python",
   "name": "python",
   "nbconvert_exporter": "python",
   "pygments_lexer": "ipython3",
   "version": "3.8.3"
  }
 },
 "nbformat": 4,
 "nbformat_minor": 4
}
