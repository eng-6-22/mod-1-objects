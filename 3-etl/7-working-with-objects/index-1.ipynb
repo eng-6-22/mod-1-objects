{
 "cells": [
  {
   "cell_type": "markdown",
   "metadata": {},
   "source": [
    "### Working with Objects"
   ]
  },
  {
   "cell_type": "markdown",
   "metadata": {},
   "source": [
    "### Creating many objects"
   ]
  },
  {
   "cell_type": "markdown",
   "metadata": {},
   "source": [
    "Now that we are able to create one object from a dictionary, let's see how we can create multiple objects.  One again here is our class that we created"
   ]
  },
  {
   "cell_type": "code",
   "execution_count": 91,
   "metadata": {},
   "outputs": [],
   "source": [
    "class Receipt:\n",
    "    @property\n",
    "    def total_receipts(self): return self._total\n",
    "    @total_receipts.setter\n",
    "    def total_receipts(self, total): self._total = int(total)\n",
    "    @property\n",
    "    def address(self): return self._address\n",
    "    @address.setter\n",
    "    def address(self, address): self._address = address\n",
    "    @property\n",
    "    def end_date(self): return self._end_date\n",
    "    @end_date.setter\n",
    "    def end_date(self, end_date): self._end_date = end_date\n",
    "    @property\n",
    "    def name(self): return self._name\n",
    "    @end_date.setter\n",
    "    def name(self, name): self._name = name"
   ]
  },
  {
   "cell_type": "markdown",
   "metadata": {},
   "source": [
    "And this is the data from the API."
   ]
  },
  {
   "cell_type": "code",
   "execution_count": 92,
   "metadata": {},
   "outputs": [
    {
     "data": {
      "text/plain": [
       "dict_keys(['taxpayer_number', 'taxpayer_name', 'taxpayer_address', 'taxpayer_city', 'taxpayer_state', 'taxpayer_zip', 'taxpayer_county', 'location_number', 'location_name', 'location_address', 'location_city', 'location_state', 'location_zip', 'location_county', 'inside_outside_city_limits_code_y_n', 'tabc_permit_number', 'responsibility_begin_date_yyyymmdd', 'obligation_end_date_yyyymmdd', 'liquor_receipts', 'wine_receipts', 'beer_receipts', 'cover_charge_receipts', 'total_receipts'])"
      ]
     },
     "execution_count": 92,
     "metadata": {},
     "output_type": "execute_result"
    }
   ],
   "source": [
    "import requests\n",
    "response = requests.get(\"https://data.texas.gov/resource/naix-2893.json?location_name=MAX%27S%20WINE%20DIVE\")\n",
    "restaurant_receipts = response.json()\n",
    "first_receipt_dict = restaurant_receipts[0]\n",
    "first_receipt_dict.keys()"
   ]
  },
  {
   "cell_type": "markdown",
   "metadata": {},
   "source": [
    "The goal was to coerce our data into the objects."
   ]
  },
  {
   "cell_type": "markdown",
   "metadata": {},
   "source": [
    "### 1. Reject\n",
    "\n",
    "* So we start by removing the data that we don't need."
   ]
  },
  {
   "cell_type": "code",
   "execution_count": 93,
   "metadata": {},
   "outputs": [],
   "source": [
    "attributes = ('total_receipts', 'location_address', 'obligation_end_date_yyyymmdd', 'location_name')\n",
    "first_receipt_data = dict((k, first_receipt_dict[k]) for k in attributes)"
   ]
  },
  {
   "cell_type": "markdown",
   "metadata": {},
   "source": [
    "### 2. Coerce"
   ]
  },
  {
   "cell_type": "markdown",
   "metadata": {},
   "source": [
    "* Then we coerced one dictionary to an object"
   ]
  },
  {
   "cell_type": "code",
   "execution_count": 94,
   "metadata": {},
   "outputs": [
    {
     "data": {
      "text/plain": [
       "{'_total': 100368,\n",
       " '_address': '207 SAN JACINTO BLVD STE 200',\n",
       " '_end_date': '2016-09-30T00:00:00.000',\n",
       " '_name': \"MAX'S WINE DIVE\"}"
      ]
     },
     "execution_count": 94,
     "metadata": {},
     "output_type": "execute_result"
    }
   ],
   "source": [
    "first_receipt = Receipt()\n",
    "first_receipt.total_receipts = first_receipt_data['total_receipts']\n",
    "first_receipt.address = first_receipt_data['location_address']\n",
    "first_receipt.end_date = first_receipt_data['obligation_end_date_yyyymmdd']\n",
    "first_receipt.name = first_receipt_data['location_name']\n",
    "first_receipt.__dict__"
   ]
  },
  {
   "cell_type": "markdown",
   "metadata": {},
   "source": [
    "### 3. Coercing multiple"
   ]
  },
  {
   "cell_type": "markdown",
   "metadata": {},
   "source": [
    "Now to coerce multiple, we just wrap the procedure that we did for one in a loop."
   ]
  },
  {
   "cell_type": "code",
   "execution_count": 95,
   "metadata": {},
   "outputs": [],
   "source": [
    "receipts = []\n",
    "for receipt in restaurant_receipts:\n",
    "    attributes = ('total_receipts', 'location_address', 'obligation_end_date_yyyymmdd', 'location_name')\n",
    "    receipt_data = dict((k, first_receipt_dict[k]) for k in attributes)\n",
    "    \n",
    "    receipt = Receipt()\n",
    "    receipt.total_receipts = first_receipt_data['total_receipts']\n",
    "    receipt.address = first_receipt_data['location_address']\n",
    "    receipt.end_date = first_receipt_data['obligation_end_date_yyyymmdd']\n",
    "    receipt.name = first_receipt_data['location_name']\n",
    "    receipts.append(receipt)"
   ]
  },
  {
   "cell_type": "markdown",
   "metadata": {},
   "source": [
    "Now we have a list of receipts."
   ]
  },
  {
   "cell_type": "code",
   "execution_count": 96,
   "metadata": {},
   "outputs": [
    {
     "data": {
      "text/plain": [
       "[<__main__.Receipt at 0x106971e80>,\n",
       " <__main__.Receipt at 0x106971dd8>,\n",
       " <__main__.Receipt at 0x106971da0>]"
      ]
     },
     "execution_count": 96,
     "metadata": {},
     "output_type": "execute_result"
    }
   ],
   "source": [
    "receipts[0:3]"
   ]
  },
  {
   "cell_type": "code",
   "execution_count": 97,
   "metadata": {},
   "outputs": [
    {
     "data": {
      "text/plain": [
       "[100368, 100368, 100368]"
      ]
     },
     "execution_count": 97,
     "metadata": {},
     "output_type": "execute_result"
    }
   ],
   "source": [
    "[receipt.total_receipts for receipt in receipts[0:3]]"
   ]
  },
  {
   "cell_type": "markdown",
   "metadata": {},
   "source": [
    "### What's the big deal?"
   ]
  },
  {
   "cell_type": "markdown",
   "metadata": {},
   "source": [
    "Think about what some of the benefits are of working with objects instead of working with our dictionary information."
   ]
  },
  {
   "cell_type": "markdown",
   "metadata": {},
   "source": [
    "### Summary"
   ]
  },
  {
   "cell_type": "markdown",
   "metadata": {},
   "source": [
    "In this lesson, we saw how to create multiple receipt objects from our API.  The way that we do so is by following our Reject, Coerce, Act, Return steps that we saw previously.  We removed data from the API that we did not need, and then populated that data into a list of objects."
   ]
  }
 ],
 "metadata": {
  "kernelspec": {
   "display_name": "Python 3",
   "language": "python",
   "name": "python3"
  },
  "language_info": {
   "codemirror_mode": {
    "name": "ipython",
    "version": 3
   },
   "file_extension": ".py",
   "mimetype": "text/x-python",
   "name": "python",
   "nbconvert_exporter": "python",
   "pygments_lexer": "ipython3",
   "version": "3.8.3"
  }
 },
 "nbformat": 4,
 "nbformat_minor": 4
}
