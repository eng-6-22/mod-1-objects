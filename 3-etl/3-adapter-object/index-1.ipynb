{
 "cells": [
  {
   "cell_type": "markdown",
   "metadata": {},
   "source": [
    "# The adapter object"
   ]
  },
  {
   "cell_type": "markdown",
   "metadata": {},
   "source": [
    "### Introduction "
   ]
  },
  {
   "cell_type": "markdown",
   "metadata": {},
   "source": [
    "In previous lessons, we changed our code to use a receipt class.  The main change was to create a receipt class."
   ]
  },
  {
   "cell_type": "code",
   "execution_count": 2,
   "metadata": {},
   "outputs": [],
   "source": [
    "class Receipt:\n",
    "    def __init__(self, total, address, end_date, restaurant_name):\n",
    "        self.total = int(total)\n",
    "        self.address = address\n",
    "        self.end_date = end_date\n",
    "        self.restaurant_name = restaurant_name"
   ]
  },
  {
   "cell_type": "markdown",
   "metadata": {},
   "source": [
    "Now, let's continue to refactor our code.  We can do this by looking for code that's not wrapped in either a method or an object, and that's the code that we still need to clean."
   ]
  },
  {
   "cell_type": "markdown",
   "metadata": {},
   "source": [
    "### 1. Identify Messy Code"
   ]
  },
  {
   "cell_type": "markdown",
   "metadata": {},
   "source": [
    "This is the code we would like to refactor."
   ]
  },
  {
   "cell_type": "code",
   "execution_count": 5,
   "metadata": {},
   "outputs": [],
   "source": [
    "import requests\n",
    "response = requests.get(\"https://data.texas.gov/resource/naix-2893.json?location_name=MAX%27S%20WINE%20DIVE\")\n",
    "restaurant_receipts = response.json()\n",
    "\n",
    "receipts = []\n",
    "for receipt in restaurant_receipts:    \n",
    "    receipt = Receipt(receipt['total_receipts'], receipt['location_address'],\n",
    "                      receipt['obligation_end_date_yyyymmdd'], receipt['location_name'])\n",
    "    receipts.append(receipt)"
   ]
  },
  {
   "cell_type": "code",
   "execution_count": 6,
   "metadata": {},
   "outputs": [
    {
     "data": {
      "text/plain": [
       "{'total': 0,\n",
       " 'address': '207 SAN JACINTO BLVD STE 200',\n",
       " 'end_date': '2020-09-30T00:00:00.000',\n",
       " 'restaurant_name': \"MAX'S WINE DIVE\"}"
      ]
     },
     "execution_count": 6,
     "metadata": {},
     "output_type": "execute_result"
    }
   ],
   "source": [
    "receipts[0].__dict__"
   ]
  },
  {
   "cell_type": "markdown",
   "metadata": {},
   "source": [
    "Now let's turn this into functions.  Ideally any function should not be longer than five lines long, and should not be more than one if else statement (ideally zero if else statements)."
   ]
  },
  {
   "cell_type": "markdown",
   "metadata": {},
   "source": [
    "Let's go."
   ]
  },
  {
   "cell_type": "markdown",
   "metadata": {},
   "source": [
    "### 2. Move messy code into an object"
   ]
  },
  {
   "cell_type": "markdown",
   "metadata": {},
   "source": [
    "The first step when we have a collection of messy code, is simply to wrap it in an object."
   ]
  },
  {
   "cell_type": "code",
   "execution_count": 7,
   "metadata": {},
   "outputs": [],
   "source": [
    "import requests\n",
    "class ReceiptBuilder:\n",
    "    def run(self):\n",
    "        response = requests.get(\"https://data.texas.gov/resource/naix-2893.json?location_name=MAX%27S%20WINE%20DIVE\")\n",
    "        restaurant_receipts = response.json()\n",
    "        receipts = []\n",
    "        for restaurant_receipt in restaurant_receipts:\n",
    "            \n",
    "            receipt = Receipt(receipt_data['total_receipts'], receipt_data['location_address'], receipt_data['obligation_end_date_yyyymmdd'], receipt_data['location_name'])\n",
    "            receipts.append(receipt)\n",
    "        return receipts"
   ]
  },
  {
   "cell_type": "markdown",
   "metadata": {},
   "source": [
    "> So above, we take our code from above and place it inside of our ReceiptBuilder class.  Then, before making any more changes, we check that our code still works."
   ]
  },
  {
   "cell_type": "code",
   "execution_count": 8,
   "metadata": {},
   "outputs": [
    {
     "data": {
      "text/plain": [
       "[<__main__.Receipt at 0x106ab4f40>, <__main__.Receipt at 0x105e88be0>]"
      ]
     },
     "execution_count": 8,
     "metadata": {},
     "output_type": "execute_result"
    }
   ],
   "source": [
    "builder = ReceiptBuilder()\n",
    "builder.run()[0:2]"
   ]
  },
  {
   "cell_type": "markdown",
   "metadata": {},
   "source": [
    "This is pretty nice.  We simply create a new instance of ReceiptBuilder, call our `run` method, and then immediately get a list of receipts."
   ]
  },
  {
   "cell_type": "markdown",
   "metadata": {},
   "source": [
    "### 3. Try: Refactor into smaller methods"
   ]
  },
  {
   "cell_type": "markdown",
   "metadata": {},
   "source": [
    "Now our `run` method is fairly long.  Ideally we want our methods to be no more than five lines long.  A good technique is to write comments above the code and then turn the comments into methods."
   ]
  },
  {
   "cell_type": "markdown",
   "metadata": {},
   "source": [
    "Give it a shot in the lines below.  You'll know that you didn't break any thing if you can still call `run` and receive back the same list of receipts."
   ]
  },
  {
   "cell_type": "code",
   "execution_count": 9,
   "metadata": {},
   "outputs": [],
   "source": [
    "import requests\n",
    "class ReceiptBuilder:\n",
    "    def run(self):\n",
    "        response = requests.get(\"https://data.texas.gov/resource/naix-2893.json?location_name=MAX%27S%20WINE%20DIVE\")\n",
    "        restaurant_receipts = response.json()\n",
    "        receipts = []\n",
    "        for restaurant_receipt in restaurant_receipts:\n",
    "            receipt = Receipt(receipt_data['total_receipts'], receipt_data['location_address'], receipt_data['obligation_end_date_yyyymmdd'], receipt_data['location_name'])\n",
    "            receipts.append(receipt)\n",
    "        return receipts"
   ]
  },
  {
   "cell_type": "code",
   "execution_count": 10,
   "metadata": {},
   "outputs": [
    {
     "data": {
      "text/plain": [
       "[<__main__.Receipt at 0x105e977f0>, <__main__.Receipt at 0x105e97340>]"
      ]
     },
     "execution_count": 10,
     "metadata": {},
     "output_type": "execute_result"
    }
   ],
   "source": [
    "builder = ReceiptBuilder()\n",
    "builder.run()[0:2]"
   ]
  },
  {
   "cell_type": "markdown",
   "metadata": {},
   "source": [
    "### Check Answer: Making methods smaller"
   ]
  },
  {
   "cell_type": "markdown",
   "metadata": {},
   "source": [
    "Ok, let's see how we could have made our `run` method smaller.  Remember that this involves two steps:\n",
    "\n",
    "1. Write comments above complicated code\n",
    "2. Turn comments into method names"
   ]
  },
  {
   "cell_type": "markdown",
   "metadata": {},
   "source": [
    "Let's start by adding some comments."
   ]
  },
  {
   "cell_type": "code",
   "execution_count": 11,
   "metadata": {},
   "outputs": [],
   "source": [
    "import requests\n",
    "class ReceiptBuilder:\n",
    "    def run(self):\n",
    "        # retrieve restaurant receipts\n",
    "        response = requests.get(\"https://data.texas.gov/resource/naix-2893.json?location_name=MAX%27S%20WINE%20DIVE\")\n",
    "        restaurant_receipts = response.json()\n",
    "        \n",
    "        # turn receipts into objects\n",
    "        receipts = []\n",
    "        for restaurant_receipt in restaurant_receipts:\n",
    "\n",
    "            receipt = Receipt(receipt_data['total_receipts'], receipt_data['location_address'], receipt_data['obligation_end_date_yyyymmdd'], receipt_data['location_name'])\n",
    "            receipts.append(receipt)\n",
    "        return receipts"
   ]
  },
  {
   "cell_type": "markdown",
   "metadata": {},
   "source": [
    "2. Turn comments into methods."
   ]
  },
  {
   "cell_type": "markdown",
   "metadata": {},
   "source": [
    "Now let's change the comments into methods."
   ]
  },
  {
   "cell_type": "code",
   "execution_count": 16,
   "metadata": {},
   "outputs": [],
   "source": [
    "import requests\n",
    "class ReceiptBuilder:\n",
    "    def retrieve_receipts(self):\n",
    "        response = requests.get(\"https://data.texas.gov/resource/naix-2893.json?location_name=MAX%27S%20WINE%20DIVE\")\n",
    "        return response.json()\n",
    "    \n",
    "    def receipts_data_to_objects(self, restaurant_receipts):\n",
    "        receipts = []\n",
    "        for restaurant_receipt in restaurant_receipts:\n",
    "            receipt = Receipt(restaurant_receipt['total_receipts'], \n",
    "                              restaurant_receipt['location_address'], \n",
    "                              restaurant_receipt['obligation_end_date_yyyymmdd'], restaurant_receipt['location_name'])\n",
    "            receipts.append(receipt)\n",
    "        return receipts\n",
    "    \n",
    "    def run(self):\n",
    "        self._receipts_data = self.retrieve_receipts()\n",
    "        self._receipts = self.receipts_data_to_objects(self._receipts_data)\n",
    "        return self._receipts"
   ]
  },
  {
   "cell_type": "code",
   "execution_count": 17,
   "metadata": {},
   "outputs": [
    {
     "data": {
      "text/plain": [
       "[<__main__.Receipt at 0x105e6aa30>,\n",
       " <__main__.Receipt at 0x106a46c10>,\n",
       " <__main__.Receipt at 0x105e883a0>]"
      ]
     },
     "execution_count": 17,
     "metadata": {},
     "output_type": "execute_result"
    }
   ],
   "source": [
    "builder = ReceiptBuilder()\n",
    "builder.run()[0:3]"
   ]
  },
  {
   "cell_type": "markdown",
   "metadata": {},
   "source": [
    "At this point, our `receipts_data_to_objects` method still is too long so once again, the steps are to read the long method, make comments to see the steps involved, and then turn those comments into methods."
   ]
  },
  {
   "cell_type": "markdown",
   "metadata": {},
   "source": [
    "### Tidying Up"
   ]
  },
  {
   "cell_type": "markdown",
   "metadata": {},
   "source": [
    "This is what we have as our final version of the class.\n",
    "\n",
    "Once again, we need our receipt class."
   ]
  },
  {
   "cell_type": "code",
   "execution_count": 31,
   "metadata": {},
   "outputs": [],
   "source": [
    "from datetime import datetime \n",
    "class Receipt:\n",
    "    def __init__(self, total, address, end_date, restaurant_name):\n",
    "        self.total = int(total)\n",
    "        self.address = address\n",
    "        self.end_date = end_date\n",
    "        self.restaurant_name = restaurant_name"
   ]
  },
  {
   "cell_type": "markdown",
   "metadata": {},
   "source": [
    "And this is our new `ReceiptBuilder`."
   ]
  },
  {
   "cell_type": "code",
   "execution_count": 18,
   "metadata": {},
   "outputs": [],
   "source": [
    "import requests\n",
    "class ReceiptBuilder:\n",
    "    def run(self):\n",
    "        self._receipts_data = self.retrieve_receipts()\n",
    "        self._receipts = self.receipts_data_to_objects(self._receipts_data)\n",
    "        return self._receipts\n",
    "    \n",
    "    def retrieve_receipts(self):\n",
    "        response = requests.get(\"https://data.texas.gov/resource/naix-2893.json?location_name=MAX%27S%20WINE%20DIVE\")\n",
    "        return response.json()\n",
    "    \n",
    "    def create_receipt(self, receipt_data):\n",
    "        receipt = Receipt(receipt_data['total_receipts'], receipt_data['location_address'], receipt_data['obligation_end_date_yyyymmdd'], receipt_data['location_name'])\n",
    "        return receipt\n",
    "    \n",
    "    def receipts_data_to_objects(self, receipts_data):\n",
    "        receipts = []\n",
    "        for receipt_data in receipts_data:\n",
    "            receipt = self.create_receipt(receipt_data)\n",
    "            receipts.append(receipt)\n",
    "        return receipts"
   ]
  },
  {
   "cell_type": "code",
   "execution_count": 19,
   "metadata": {},
   "outputs": [
    {
     "data": {
      "text/plain": [
       "[<__main__.Receipt at 0x105e6a940>,\n",
       " <__main__.Receipt at 0x106ab4e20>,\n",
       " <__main__.Receipt at 0x106ab4fd0>]"
      ]
     },
     "execution_count": 19,
     "metadata": {},
     "output_type": "execute_result"
    }
   ],
   "source": [
    "builder = ReceiptBuilder()\n",
    "builder.run()[0:3]"
   ]
  },
  {
   "cell_type": "markdown",
   "metadata": {},
   "source": [
    "### Summary"
   ]
  },
  {
   "cell_type": "markdown",
   "metadata": {},
   "source": [
    "In this lesson we saw how to take a collection of unorganized code and make it more organized.  We did this through a step by step procedure.\n",
    "\n",
    "1. Identify the messy code\n",
    "2. Create a new class to place the messy code, and place code in MessyClass.run() method\n",
    "3. Make methods smaller by\n",
    "    * Write comments explaining what parts of the method do\n",
    "    * Turn those comments into individual method calls"
   ]
  }
 ],
 "metadata": {
  "kernelspec": {
   "display_name": "Python 3",
   "language": "python",
   "name": "python3"
  },
  "language_info": {
   "codemirror_mode": {
    "name": "ipython",
    "version": 3
   },
   "file_extension": ".py",
   "mimetype": "text/x-python",
   "name": "python",
   "nbconvert_exporter": "python",
   "pygments_lexer": "ipython3",
   "version": "3.8.3"
  }
 },
 "nbformat": 4,
 "nbformat_minor": 4
}
