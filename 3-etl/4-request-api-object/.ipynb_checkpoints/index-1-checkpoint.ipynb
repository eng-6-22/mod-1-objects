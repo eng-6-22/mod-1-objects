{
 "cells": [
  {
   "cell_type": "markdown",
   "metadata": {},
   "source": [
    "## The Client Class"
   ]
  },
  {
   "cell_type": "markdown",
   "metadata": {},
   "source": [
    "### Introduction "
   ]
  },
  {
   "cell_type": "markdown",
   "metadata": {},
   "source": [
    "Ok, so far we have created two different classes, a `Receipt` class and a `ReceiptBuilder` class.  Let's review."
   ]
  },
  {
   "cell_type": "markdown",
   "metadata": {},
   "source": [
    "1. Our Receipt class \n",
    "    * This class simply contains setters and getters for the attributes that we find important."
   ]
  },
  {
   "cell_type": "code",
   "execution_count": 8,
   "metadata": {},
   "outputs": [],
   "source": [
    "class Receipt:\n",
    "    def __init__(self, total, address, end_date, restaurant_name):\n",
    "        self.total = int(total)\n",
    "        self.address = address\n",
    "        self.end_date = end_date\n",
    "        self.restaurant_name = restaurant_name"
   ]
  },
  {
   "cell_type": "markdown",
   "metadata": {},
   "source": [
    "2. The ReceiptBuilder class constructs new objects."
   ]
  },
  {
   "cell_type": "code",
   "execution_count": 1,
   "metadata": {},
   "outputs": [],
   "source": [
    "import requests\n",
    "class ReceiptBuilder:\n",
    "    def run(self):\n",
    "        self._receipts_data = self.retrieve_receipts()\n",
    "        self._receipts = self.receipts_data_to_objects(self._receipts_data)\n",
    "        return self._receipts\n",
    "    \n",
    "    def retrieve_receipts(self):\n",
    "        response = requests.get(\"https://data.texas.gov/resource/naix-2893.json?location_name=MAX%27S%20WINE%20DIVE\")\n",
    "        return response.json()\n",
    "    \n",
    "    def create_receipt(self, receipt_data):\n",
    "        receipt = Receipt(receipt_data['total_receipts'], receipt_data['location_address'],\n",
    "                          receipt_data['obligation_end_date_yyyymmdd'], receipt_data['location_name'])\n",
    "        return receipt\n",
    "    \n",
    "    def receipts_data_to_objects(self, receipts_data):\n",
    "        receipts = []\n",
    "        for receipt_data in receipts_data:\n",
    "            receipt = self.create_receipt(receipt_data)\n",
    "            receipts.append(receipt)\n",
    "        return receipts"
   ]
  },
  {
   "cell_type": "markdown",
   "metadata": {},
   "source": [
    "### Going further"
   ]
  },
  {
   "cell_type": "markdown",
   "metadata": {},
   "source": [
    "Now looking at the code, there is some code that is different than the other.  We can identify it by looking at our `run` method."
   ]
  },
  {
   "cell_type": "markdown",
   "metadata": {},
   "source": [
    "```python\n",
    "def run(self):\n",
    "    self._receipts_data = self.retrieve_receipts()\n",
    "    self._receipts = self.receipts_data_to_objects(self._receipts_data)\n",
    "    return self._receipts\n",
    "```"
   ]
  },
  {
   "cell_type": "markdown",
   "metadata": {},
   "source": [
    "We can see that this method does two things:\n",
    "1. retrieve data from the api\n",
    "2. coerce the data into Receipt objects.  \n",
    "\n",
    "These are two tasks that we may not always want to perform together.  For example, we may want to retreive data from the API and create new restaurant objects, or new location objects.  So it makes sense to isolate this code.  Here's how."
   ]
  },
  {
   "cell_type": "markdown",
   "metadata": {},
   "source": [
    "1. We just move the `retrieve_receipts` method into a new class."
   ]
  },
  {
   "cell_type": "code",
   "execution_count": 5,
   "metadata": {},
   "outputs": [],
   "source": [
    "class TexasDrinksClient:\n",
    "    URL = \"https://data.texas.gov/resource/naix-2893.json?location_name=MAX%27S%20WINE%20DIVE\"\n",
    "    def run(self):\n",
    "        response = requests.get(self.URL)\n",
    "        return response.json()"
   ]
  },
  {
   "cell_type": "markdown",
   "metadata": {},
   "source": [
    "And then we remove the related code from the `ReceiptBuilder`, and replace it with a call to the `TexasDrinksClient`."
   ]
  },
  {
   "cell_type": "code",
   "execution_count": 6,
   "metadata": {},
   "outputs": [],
   "source": [
    "import requests\n",
    "class ReceiptBuilder:\n",
    "    def run(self):\n",
    "        self._request_api = TexasDrinksClient()\n",
    "        self._receipts_data = self._request_api.run()\n",
    "        self._receipts = self.receipts_data_to_objects(self._receipts_data)\n",
    "        return self._receipts\n",
    "    \n",
    "    # remove retrieve_receipts method\n",
    "    \n",
    "    def select_data(self, receipt_data):\n",
    "        attributes = ('total_receipts', 'location_address', 'obligation_end_date_yyyymmdd', 'location_name')\n",
    "        return dict((k, receipt_data[k]) for k in attributes)\n",
    "    \n",
    "    def create_receipt(self, receipt_data):\n",
    "        receipt = Receipt(receipt_data['total_receipts'], receipt_data['location_address'], receipt_data['obligation_end_date_yyyymmdd'], receipt_data['location_name'])\n",
    "        return receipt\n",
    "    \n",
    "    def receipts_data_to_objects(self, receipts_data):\n",
    "        receipts = []\n",
    "        for receipt_data in receipts_data:\n",
    "            selected_data = self.select_data(receipt_data)\n",
    "            receipt = self.create_receipt(selected_data)\n",
    "            receipts.append(receipt)\n",
    "        return receipts"
   ]
  },
  {
   "cell_type": "markdown",
   "metadata": {},
   "source": [
    "And then we check to make sure that this still works."
   ]
  },
  {
   "cell_type": "code",
   "execution_count": 9,
   "metadata": {},
   "outputs": [
    {
     "data": {
      "text/plain": [
       "[<__main__.Receipt at 0x105d44700>,\n",
       " <__main__.Receipt at 0x105d446a0>,\n",
       " <__main__.Receipt at 0x10517bdf0>]"
      ]
     },
     "execution_count": 9,
     "metadata": {},
     "output_type": "execute_result"
    }
   ],
   "source": [
    "builder = ReceiptBuilder()\n",
    "receipts = builder.run()\n",
    "receipts[0:3]"
   ]
  },
  {
   "cell_type": "markdown",
   "metadata": {},
   "source": [
    "### Such small improvements?"
   ]
  },
  {
   "cell_type": "markdown",
   "metadata": {},
   "source": [
    "It may seem silly to create a class for just one method.  Why do we?"
   ]
  },
  {
   "cell_type": "code",
   "execution_count": 13,
   "metadata": {},
   "outputs": [],
   "source": [
    "class TexasDrinksAPI:\n",
    "    URL = \"https://data.texas.gov/resource/naix-2893.json?location_name=MAX%27S%20WINE%20DIVE\"\n",
    "    def run(self):\n",
    "        response = requests.get(self.URL)\n",
    "        return response.json()"
   ]
  },
  {
   "cell_type": "code",
   "execution_count": 15,
   "metadata": {},
   "outputs": [],
   "source": [
    "client = TexasDrinksAPI()\n",
    "\n",
    "# client.run()"
   ]
  },
  {
   "cell_type": "markdown",
   "metadata": {},
   "source": [
    "In part we do this because we are following a standard recipe.  Generally, when we make a request to an API we require multiple pieces of information like the root_url, the client_id and the client_secret to make a request.\n",
    "\n",
    "Even above we could further refactor our Client class."
   ]
  },
  {
   "cell_type": "code",
   "execution_count": 22,
   "metadata": {},
   "outputs": [],
   "source": [
    "class TexasDrinksAPI:\n",
    "    ROOT_URL = \"https://data.texas.gov/resource/naix-2893.json\"\n",
    "    \n",
    "    def run(self, params = {'location_name': 'HYATT HOUSE DALLAS/UPTOWN'}):\n",
    "        response = requests.get(self.ROOT_URL, params)\n",
    "        return response.json()"
   ]
  },
  {
   "cell_type": "code",
   "execution_count": 25,
   "metadata": {},
   "outputs": [
    {
     "data": {
      "text/plain": [
       "dict_keys(['taxpayer_number', 'taxpayer_name', 'taxpayer_address', 'taxpayer_city', 'taxpayer_state', 'taxpayer_zip', 'taxpayer_county', 'location_number', 'location_name', 'location_address', 'location_city', 'location_state', 'location_zip', 'location_county', 'inside_outside_city_limits_code_y_n', 'tabc_permit_number', 'responsibility_begin_date_yyyymmdd', 'obligation_end_date_yyyymmdd', 'liquor_receipts', 'wine_receipts', 'beer_receipts', 'cover_charge_receipts', 'total_receipts'])"
      ]
     },
     "execution_count": 25,
     "metadata": {},
     "output_type": "execute_result"
    }
   ],
   "source": [
    "client = TexasDrinksAPI()\n",
    "\n",
    "client.run()[0].keys()"
   ]
  },
  {
   "cell_type": "markdown",
   "metadata": {},
   "source": [
    "### Summary"
   ]
  },
  {
   "cell_type": "markdown",
   "metadata": {},
   "source": [
    "In this lesson, we learned to remove code related to the API into it's own class.  The reason why we do this is because requesting the Texas API has value even when not related to building receipts.  And we want an easy tool to do this."
   ]
  },
  {
   "cell_type": "markdown",
   "metadata": {},
   "source": [
    "We also saw a standard pattern for reaching an API.  The main idea is that we do not like working with messy dictionaries and instead would prefer to work with objects.  We accomplish this by creating three classes: \n",
    "\n",
    "1. A `TexasDrinksAPI` class that makes requests to the API\n",
    "2. A `ReceiptBuilder` class that turns the data into `Receipt` instances\n",
    "3. The `Receipt` class"
   ]
  }
 ],
 "metadata": {
  "kernelspec": {
   "display_name": "Python 3",
   "language": "python",
   "name": "python3"
  },
  "language_info": {
   "codemirror_mode": {
    "name": "ipython",
    "version": 3
   },
   "file_extension": ".py",
   "mimetype": "text/x-python",
   "name": "python",
   "nbconvert_exporter": "python",
   "pygments_lexer": "ipython3",
   "version": "3.8.3"
  }
 },
 "nbformat": 4,
 "nbformat_minor": 4
}
