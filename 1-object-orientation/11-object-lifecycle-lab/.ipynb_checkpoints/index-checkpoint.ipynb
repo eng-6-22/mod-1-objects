{
 "cells": [
  {
   "cell_type": "markdown",
   "metadata": {},
   "source": [
    "# Object Lifecycle Practice"
   ]
  },
  {
   "cell_type": "markdown",
   "metadata": {},
   "source": [
    "### Introduction"
   ]
  },
  {
   "cell_type": "markdown",
   "metadata": {},
   "source": [
    "Now that we know about our object lifecycle method, let's refactor our previous class.  Currently the class looks like the following."
   ]
  },
  {
   "cell_type": "code",
   "execution_count": 1,
   "metadata": {},
   "outputs": [],
   "source": [
    "class Bundle:\n",
    "    def price(self):\n",
    "        if self.weight < 5:\n",
    "            return 10\n",
    "        else:\n",
    "            return 10 + (self.weight - 5)*1.5\n",
    "    \n",
    "    def processingDays(self):\n",
    "        month_difference = self.ready_month - self.dropoff_month\n",
    "        day_difference = self.ready_day -  self.dropoff_day\n",
    "        return month_difference*30 + day_difference\n",
    "    \n",
    "    def holdingDays(self):\n",
    "        month_difference = self.pickup_month - self.dropoff_month\n",
    "        day_difference = self.pickup_month -  self.dropoff_day\n",
    "        return month_difference*30 + day_difference"
   ]
  },
  {
   "cell_type": "markdown",
   "metadata": {},
   "source": [
    "### Refactoring"
   ]
  },
  {
   "cell_type": "markdown",
   "metadata": {},
   "source": [
    "Let's create one of our bundles."
   ]
  },
  {
   "cell_type": "code",
   "execution_count": 4,
   "metadata": {},
   "outputs": [
    {
     "name": "stdout",
     "output_type": "stream",
     "text": [
      "\u001b[1m============================= test session starts ==============================\u001b[0m\n",
      "platform darwin -- Python 3.7.4, pytest-5.2.1, py-1.8.0, pluggy-0.13.0\n",
      "rootdir: /Users/jeff/Documents/jigsaw/curriculum/1-section-content/mod-1/3-objects/1-object-orientation/11-object-lifecycle-lab\n",
      "plugins: arraydiff-0.3, remotedata-0.3.2, doctestplus-0.4.0, openfiles-0.4.0\n",
      "collected 1 item                                                               \u001b[0m\n",
      "\n",
      "test_bundle.py \u001b[32m.\u001b[0m\u001b[36m                                                         [100%]\u001b[0m\n",
      "\n",
      "\u001b[32m\u001b[1m============================== 1 passed in 0.06s ===============================\u001b[0m\n"
     ]
    }
   ],
   "source": [
    "!pytest test_bundle.py"
   ]
  },
  {
   "cell_type": "code",
   "execution_count": 2,
   "metadata": {},
   "outputs": [],
   "source": [
    "bundle = Bundle()"
   ]
  },
  {
   "cell_type": "code",
   "execution_count": 3,
   "metadata": {},
   "outputs": [
    {
     "data": {
      "text/plain": [
       "dict_keys(['dropoff_month', 'dropoff_day', 'ready_month', 'ready_day'])"
      ]
     },
     "execution_count": 3,
     "metadata": {},
     "output_type": "execute_result"
    }
   ],
   "source": [
    "bundle = Bundle()\n",
    "\n",
    "bundle\n",
    "\n",
    "bundle.dropoff_month = 5\n",
    "bundle.dropoff_day = 29\n",
    "bundle.ready_month = 6\n",
    "bundle.ready_day = 2\n",
    "bundle.__dict__.keys()"
   ]
  },
  {
   "cell_type": "markdown",
   "metadata": {},
   "source": [
    "Now if we add an `__init__` method to our class, we are requiring certain information to be provided when we initialize the object.  Think about what information should be moved be required when initializing, and change the `Bundle` class accordingly."
   ]
  }
 ],
 "metadata": {
  "kernelspec": {
   "display_name": "Python 3",
   "language": "python",
   "name": "python3"
  },
  "language_info": {
   "codemirror_mode": {
    "name": "ipython",
    "version": 3
   },
   "file_extension": ".py",
   "mimetype": "text/x-python",
   "name": "python",
   "nbconvert_exporter": "python",
   "pygments_lexer": "ipython3",
   "version": "3.8.3"
  }
 },
 "nbformat": 4,
 "nbformat_minor": 4
}
