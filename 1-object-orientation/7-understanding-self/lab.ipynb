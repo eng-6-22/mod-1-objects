{
 "cells": [
  {
   "cell_type": "markdown",
   "metadata": {},
   "source": [
    "# Laundry Machine Lab"
   ]
  },
  {
   "cell_type": "markdown",
   "metadata": {},
   "source": [
    "### Introduction"
   ]
  },
  {
   "cell_type": "markdown",
   "metadata": {},
   "source": [
    "Imagine that we are building software to sell to different laundromats.  Laundromats want a system to keep track of the laundry bundles that customers drop off for the laundromat to then clean.  Building this system will allow the laundromat to see where there are delays and how quickly they need to process orders.  It will also allow them to staff more workers to help clean as needed.  \n",
    "\n",
    "Let's get started."
   ]
  },
  {
   "cell_type": "markdown",
   "metadata": {},
   "source": [
    "### Building the class"
   ]
  },
  {
   "cell_type": "code",
   "execution_count": 57,
   "metadata": {},
   "outputs": [
    {
     "ename": "ImportError",
     "evalue": "cannot import name 'addPickupDays' from 'test_helpers' (/Users/jeff/Documents/jigsaw/curriculum/data-science-intro/coding/3-object-orientation/5-understanding-self/test_helpers.py)",
     "output_type": "error",
     "traceback": [
      "\u001b[0;31m---------------------------------------------------------------------------\u001b[0m",
      "\u001b[0;31mImportError\u001b[0m                               Traceback (most recent call last)",
      "\u001b[0;32m<ipython-input-57-4356fbe78cd4>\u001b[0m in \u001b[0;36m<module>\u001b[0;34m()\u001b[0m\n\u001b[0;32m----> 1\u001b[0;31m \u001b[0;32mfrom\u001b[0m \u001b[0mtest_helpers\u001b[0m \u001b[0;32mimport\u001b[0m \u001b[0maddDaysToBundle\u001b[0m\u001b[0;34m,\u001b[0m \u001b[0maddPickupDays\u001b[0m\u001b[0;34m\u001b[0m\u001b[0m\n\u001b[0m",
      "\u001b[0;31mImportError\u001b[0m: cannot import name 'addPickupDays' from 'test_helpers' (/Users/jeff/Documents/jigsaw/curriculum/data-science-intro/coding/3-object-orientation/5-understanding-self/test_helpers.py)"
     ]
    }
   ],
   "source": [
    "from test_helpers import addDaysToBundle, addPickupDays"
   ]
  },
  {
   "cell_type": "markdown",
   "metadata": {},
   "source": [
    "Start by creating a class called `Bundle` in the `bundle.py` file."
   ]
  },
  {
   "cell_type": "code",
   "execution_count": 52,
   "metadata": {},
   "outputs": [],
   "source": [
    "class Bundle:\n",
    "    def price(self):\n",
    "        if self.weight < 5:\n",
    "            return 10\n",
    "        else:\n",
    "            return 10 + (self.weight - 5)*1.5\n",
    "    \n",
    "    def processingDays(self):\n",
    "        month_difference = self.ready_month - self.dropoff_month\n",
    "        day_difference = self.ready_day -  self.dropoff_day\n",
    "        return month_difference*30 + day_difference\n",
    "    \n",
    "    def holdingDays(self):\n",
    "        month_difference = self.pickup_month - self.dropoff_month\n",
    "        day_difference = self.pickup_month -  self.dropoff_day\n",
    "        return month_difference*30 + day_difference"
   ]
  },
  {
   "cell_type": "code",
   "execution_count": 44,
   "metadata": {},
   "outputs": [],
   "source": [
    "firstBundle = Bundle()"
   ]
  },
  {
   "cell_type": "markdown",
   "metadata": {},
   "source": [
    "The laundromat charges customers based on the weight of the dropoff.  Anything five pounds or under is 10 dollars, and the laundromat charges $1.50 for every pound over five pounds.  \n",
    "\n",
    "* Add a method called, **price** that calculates the price of a bundle."
   ]
  },
  {
   "cell_type": "code",
   "execution_count": 45,
   "metadata": {},
   "outputs": [],
   "source": [
    "secondBundle = Bundle()"
   ]
  },
  {
   "cell_type": "code",
   "execution_count": 46,
   "metadata": {},
   "outputs": [],
   "source": [
    "secondBundle.weight = 8"
   ]
  },
  {
   "cell_type": "code",
   "execution_count": 48,
   "metadata": {},
   "outputs": [
    {
     "data": {
      "text/plain": [
       "14.5"
      ]
     },
     "execution_count": 48,
     "metadata": {},
     "output_type": "execute_result"
    }
   ],
   "source": [
    "secondBundle.price()\n",
    "# 14.5"
   ]
  },
  {
   "cell_type": "markdown",
   "metadata": {},
   "source": [
    "Next, let's write a method called `processing_time` that calculates the number of days between when a dropoff occurs and when a bundle is ready for pickup.  We'll add the following data."
   ]
  },
  {
   "cell_type": "code",
   "execution_count": 53,
   "metadata": {},
   "outputs": [
    {
     "data": {
      "text/plain": [
       "{'dropoff_month': 5, 'dropoff_day': 29, 'ready_month': 6, 'ready_day': 2}"
      ]
     },
     "execution_count": 53,
     "metadata": {},
     "output_type": "execute_result"
    }
   ],
   "source": [
    "thirdBundle = Bundle()\n",
    "addDaysToBundle(thirdBundle)\n",
    "thirdBundle.__dict__"
   ]
  },
  {
   "cell_type": "markdown",
   "metadata": {},
   "source": [
    "So above we set the dropoff month and day, as well as the day that the bundle is ready for pickup.  Now write a method called `processing_days` that calculates the number of days it took to process the bundle.  For the purposes of this problem assume that every month only has 30 days."
   ]
  },
  {
   "cell_type": "code",
   "execution_count": 54,
   "metadata": {},
   "outputs": [
    {
     "data": {
      "text/plain": [
       "3"
      ]
     },
     "execution_count": 54,
     "metadata": {},
     "output_type": "execute_result"
    }
   ],
   "source": [
    "thirdBundle.processingDays()\n",
    "# 3"
   ]
  },
  {
   "cell_type": "markdown",
   "metadata": {},
   "source": [
    "Ok, now customers are also a factor in how soon the clothes get picked up.  This time we want to write a method called `holdingDays` that calculates from when the clothes were dropped off to when they are picked up."
   ]
  },
  {
   "cell_type": "code",
   "execution_count": 55,
   "metadata": {},
   "outputs": [],
   "source": [
    "fourthBundle = Bundle()\n",
    "addPickupDays(thirdBundle)"
   ]
  },
  {
   "cell_type": "code",
   "execution_count": null,
   "metadata": {},
   "outputs": [],
   "source": []
  }
 ],
 "metadata": {
  "kernelspec": {
   "display_name": "Python 3",
   "language": "python",
   "name": "python3"
  },
  "language_info": {
   "codemirror_mode": {
    "name": "ipython",
    "version": 3
   },
   "file_extension": ".py",
   "mimetype": "text/x-python",
   "name": "python",
   "nbconvert_exporter": "python",
   "pygments_lexer": "ipython3",
   "version": "3.8.3"
  }
 },
 "nbformat": 4,
 "nbformat_minor": 4
}
