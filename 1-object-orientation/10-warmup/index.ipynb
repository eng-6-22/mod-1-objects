{
 "cells": [
  {
   "cell_type": "markdown",
   "id": "33f6064d-217f-4c37-b33f-5c070cb6d91b",
   "metadata": {},
   "source": [
    "# Objects Warmup"
   ]
  },
  {
   "cell_type": "markdown",
   "id": "0243da76-0d15-47d1-b433-02e35bbd076b",
   "metadata": {},
   "source": [
    "Create a file `person.py` and a class called Person.\n",
    "\n",
    "Design the Person class so that when a person instance is created, we can provide the `first_name` and `last_name` attributes.  And write a method called `full_name` that returns the `first_name` and `last_name` with a space in between the two.\n",
    "\n",
    "Then create a `test_person.py` file.  Write tests that check:\n",
    "\n",
    "* When a person is created first_name and last_name may be provided and set the associated attributes.\n",
    "* That the `full_name` method returns the `first_name` and the `last_name` separated by a space."
   ]
  },
  {
   "cell_type": "code",
   "execution_count": null,
   "id": "a8164947-ffe1-48c1-ae38-559cedbde31d",
   "metadata": {},
   "outputs": [],
   "source": []
  }
 ],
 "metadata": {
  "kernelspec": {
   "display_name": "Python 3 (ipykernel)",
   "language": "python",
   "name": "python3"
  },
  "language_info": {
   "codemirror_mode": {
    "name": "ipython",
    "version": 3
   },
   "file_extension": ".py",
   "mimetype": "text/x-python",
   "name": "python",
   "nbconvert_exporter": "python",
   "pygments_lexer": "ipython3",
   "version": "3.9.7"
  }
 },
 "nbformat": 4,
 "nbformat_minor": 5
}
